{
 "cells": [
  {
   "cell_type": "markdown",
   "metadata": {},
   "source": [
    "#### Logistic regression\n",
    "\n",
    "People who raise large numbers of birds inhale potentially dangerous material, especially tiny fragments of feathers. Can this be a risk factor for lung cancer, controlling for other possible risk factors?  Which of those other possible risk factors are important? Here are the variables in the file {http://www.utstat.utoronto.ca/~brunner/data/illegal/birdlung.data.txt}. \n",
    "These data are from a textbook called the \\emph{Statistical Sleuth} by Ramsey and Schafer.\n",
    "\\begin{center}\n",
    "\\begin{tabular}{|l|l|} \\hline\n",
    "\\textbf{Variable} & \\textbf{Values} \\\\ \\hline\n",
    "Lung Cancer                  & 1=Yes, 0=No \\\\ \n",
    "Gender                       & 1=Female, 0=Male \\\\ \n",
    "Socioeconomic Status         & 1=High, 0=Low \\\\ \n",
    "Birdkeeping                  & 1=Yes, 0=No \\\\ \n",
    "Age                          &  \\\\ \n",
    "Years smoked                 &  \\\\ \n",
    "Cigarettes per day           &  \\\\ \\hline\n",
    "\\end{tabular}\n",
    "\\end{center}\n",
    "\n",
    "First, make tables of the binary variables using \\texttt{table}, Use \\texttt{prop.table} to find out the percentages. What proportion of the sample had cancer. Any comments?\n",
    "\n",
    "There is one primary issue in this study: Controlling for all other variables, is birdkeeping significantly related to the chance of getting lung cancer? Carry out a likelihood ratio test to answer the question. \n",
    "            \\begin{enumerate}\n",
    "                \\item In symbols, what is the null hypothesis?\n",
    "                \\item What is the value of the likelihood ratio test statistic $G^2$? The answer is a number.\n",
    "                \\item What are the degrees of freedom for the test? The answer is a number.\n",
    "                \\item What is the $p$-value? The answer is a number.\n",
    "                \\item What do you conclude? Presence of a relationship is not enough. Say what happened.\n",
    "                \\item For a non-smoking, bird-keeping woman of average age and low socioeconomic status, what is the estimated probability of lung cancer? The answer (a single number) should be based on the full model.\n",
    "                \\item Obtain a 95\\% confidence interval for that last probability. Your answer is a pair of numbers. There is an easy way and a hard way. Do it the easy way.\n",
    "                \\item Your answer to the last question made you uncomfortable. Why? Another approach is to start with a confidence interval for the log odds, and then use the fact that the function $p(x) = \\frac{e^x}{1+e^x}$ is strictly increasing in $x$. Get the confidence interval this way. Again, your answer is a pair of numbers. Which confidence interval do you like more? \n",
    "                \\item Naturally, you should be able to interpret all the $Z$-tests too. Which one is comparable to the main likelihood ratio test you have just done?\n",
    "                \\item Controlling for all other variables, are the chances of cancer different for men and women?\n",
    "%                \\item All other things being equal, when a person smokes 10 more cigarettes a day (ten, not one), the estimated odds of cancer are \\underline{~~~~~~~} times as great.\n",
    "                \\item Also, are \\emph{any} of the explanatory variables related to getting lung cancer? Carry out a single likelihood ratio test. You could do it from the default output with a calculator, but use R. Get the $p$-value, too.\n",
    "                \\item Now please do the same as the last item, but with a Wald test. Of course you should display the value of $W_n$, the degrees of freedom and the $p$-value.\n",
    "                \\item Finally and just for practice, fit a simple logistic regression model in which the single explanatory variable is number of cigarettes per day.\n",
    "                    \\begin{enumerate}\n",
    "                        \\item When a person from this population smokes ten more cigarettes per day, the odds of lung cancer are multiplied by $r$ (odds ratio). Give a point estimate of $r$. Your answer is a number. \n",
    "                         \\item Using the \\texttt{vcov} function and the delta method, give an estimate of the asymptotic variance of $r$. Your answer is a number.\n",
    "                    \\end{enumerate}\n",
    "\\textbf{Please bring your R printout for this question to the quiz.} Also, this question requires some paper and pencil work, and it would be fair to ask for something like that on the quiz too.\n",
    "        \\end{enumerate}\n"
   ]
  },
  {
   "cell_type": "code",
   "execution_count": 1,
   "metadata": {},
   "outputs": [
    {
     "data": {
      "text/html": [
       "<table>\n",
       "<thead><tr><th scope=col>Lung_Cancer</th><th scope=col>Gender</th><th scope=col>Socioeconomic_Status</th><th scope=col>Birdkeeping</th><th scope=col>Age</th><th scope=col>Years_smoked</th><th scope=col>Cigarettes_Per_Day</th></tr></thead>\n",
       "<tbody>\n",
       "\t<tr><td>1 </td><td>0 </td><td>0 </td><td>1 </td><td>37</td><td>19</td><td>12</td></tr>\n",
       "\t<tr><td>1 </td><td>0 </td><td>0 </td><td>1 </td><td>41</td><td>22</td><td>15</td></tr>\n",
       "\t<tr><td>1 </td><td>0 </td><td>1 </td><td>0 </td><td>43</td><td>19</td><td>15</td></tr>\n",
       "\t<tr><td>1 </td><td>0 </td><td>0 </td><td>1 </td><td>46</td><td>24</td><td>15</td></tr>\n",
       "\t<tr><td>1 </td><td>0 </td><td>0 </td><td>1 </td><td>49</td><td>31</td><td>20</td></tr>\n",
       "\t<tr><td>1 </td><td>0 </td><td>1 </td><td>0 </td><td>51</td><td>24</td><td>15</td></tr>\n",
       "</tbody>\n",
       "</table>\n"
      ],
      "text/latex": [
       "\\begin{tabular}{r|lllllll}\n",
       " Lung\\_Cancer & Gender & Socioeconomic\\_Status & Birdkeeping & Age & Years\\_smoked & Cigarettes\\_Per\\_Day\\\\\n",
       "\\hline\n",
       "\t 1  & 0  & 0  & 1  & 37 & 19 & 12\\\\\n",
       "\t 1  & 0  & 0  & 1  & 41 & 22 & 15\\\\\n",
       "\t 1  & 0  & 1  & 0  & 43 & 19 & 15\\\\\n",
       "\t 1  & 0  & 0  & 1  & 46 & 24 & 15\\\\\n",
       "\t 1  & 0  & 0  & 1  & 49 & 31 & 20\\\\\n",
       "\t 1  & 0  & 1  & 0  & 51 & 24 & 15\\\\\n",
       "\\end{tabular}\n"
      ],
      "text/markdown": [
       "\n",
       "Lung_Cancer | Gender | Socioeconomic_Status | Birdkeeping | Age | Years_smoked | Cigarettes_Per_Day | \n",
       "|---|---|---|---|---|---|\n",
       "| 1  | 0  | 0  | 1  | 37 | 19 | 12 | \n",
       "| 1  | 0  | 0  | 1  | 41 | 22 | 15 | \n",
       "| 1  | 0  | 1  | 0  | 43 | 19 | 15 | \n",
       "| 1  | 0  | 0  | 1  | 46 | 24 | 15 | \n",
       "| 1  | 0  | 0  | 1  | 49 | 31 | 20 | \n",
       "| 1  | 0  | 1  | 0  | 51 | 24 | 15 | \n",
       "\n",
       "\n"
      ],
      "text/plain": [
       "  Lung_Cancer Gender Socioeconomic_Status Birdkeeping Age Years_smoked\n",
       "1 1           0      0                    1           37  19          \n",
       "2 1           0      0                    1           41  22          \n",
       "3 1           0      1                    0           43  19          \n",
       "4 1           0      0                    1           46  24          \n",
       "5 1           0      0                    1           49  31          \n",
       "6 1           0      1                    0           51  24          \n",
       "  Cigarettes_Per_Day\n",
       "1 12                \n",
       "2 15                \n",
       "3 15                \n",
       "4 15                \n",
       "5 20                \n",
       "6 15                "
      ]
     },
     "metadata": {},
     "output_type": "display_data"
    }
   ],
   "source": [
    "birdlung = read.table(\"/Users/yichen/Desktop/birdlung.data.txt\");\n",
    "colname = c(\"Lung_Cancer\", \"Gender\", \"Socioeconomic_Status\", \"Birdkeeping\", \"Age\", \"Years_smoked\", \"Cigarettes_Per_Day\")\n",
    "colnames(birdlung) = colname\n",
    "attach(birdlung)\n",
    "head(birdlung)"
   ]
  },
  {
   "cell_type": "code",
   "execution_count": null,
   "metadata": {
    "collapsed": true
   },
   "outputs": [],
   "source": []
  },
  {
   "cell_type": "code",
   "execution_count": 2,
   "metadata": {},
   "outputs": [
    {
     "data": {
      "text/plain": [
       "Lung_Cancer\n",
       " 0  1 \n",
       "98 49 "
      ]
     },
     "metadata": {},
     "output_type": "display_data"
    },
    {
     "data": {
      "text/plain": [
       "Lung_Cancer\n",
       "        0         1 \n",
       "0.6666667 0.3333333 "
      ]
     },
     "metadata": {},
     "output_type": "display_data"
    },
    {
     "data": {
      "text/plain": [
       "Gender\n",
       "  0   1 \n",
       "111  36 "
      ]
     },
     "metadata": {},
     "output_type": "display_data"
    },
    {
     "data": {
      "text/plain": [
       "Gender\n",
       "       0        1 \n",
       "0.755102 0.244898 "
      ]
     },
     "metadata": {},
     "output_type": "display_data"
    },
    {
     "data": {
      "text/plain": [
       "Socioeconomic_Status\n",
       "  0   1 \n",
       "102  45 "
      ]
     },
     "metadata": {},
     "output_type": "display_data"
    },
    {
     "data": {
      "text/plain": [
       "Socioeconomic_Status\n",
       "        0         1 \n",
       "0.6938776 0.3061224 "
      ]
     },
     "metadata": {},
     "output_type": "display_data"
    },
    {
     "data": {
      "text/plain": [
       "Birdkeeping\n",
       " 0  1 \n",
       "80 67 "
      ]
     },
     "metadata": {},
     "output_type": "display_data"
    },
    {
     "data": {
      "text/plain": [
       "Birdkeeping\n",
       "        0         1 \n",
       "0.5442177 0.4557823 "
      ]
     },
     "metadata": {},
     "output_type": "display_data"
    }
   ],
   "source": [
    "cancer_table = table(Lung_Cancer); \n",
    "gender_table = table(Gender); \n",
    "socio_table = table(Socioeconomic_Status) \n",
    "bird_table = table(Birdkeeping)\n",
    "\n",
    "cancer_table; prop.table(cancer_table)\n",
    "gender_table; prop.table(gender_table)\n",
    "socio_table; prop.table(socio_table)\n",
    "bird_table; prop.table(bird_table)"
   ]
  },
  {
   "cell_type": "code",
   "execution_count": 29,
   "metadata": {},
   "outputs": [
    {
     "data": {
      "text/plain": [
       "\n",
       "Call:\n",
       "glm(formula = Lung_Cancer ~ Gender + Socioeconomic_Status + Birdkeeping + \n",
       "    Age + Years_smoked + Cigarettes_Per_Day, family = binomial)\n",
       "\n",
       "Deviance Residuals: \n",
       "    Min       1Q   Median       3Q      Max  \n",
       "-1.5642  -0.8333  -0.4605   0.9808   2.2460  \n",
       "\n",
       "Coefficients:\n",
       "                     Estimate Std. Error z value Pr(>|z|)    \n",
       "(Intercept)          -1.93736    1.80425  -1.074 0.282924    \n",
       "Gender                0.56127    0.53116   1.057 0.290653    \n",
       "Socioeconomic_Status  0.10545    0.46885   0.225 0.822050    \n",
       "Birdkeeping           1.36259    0.41128   3.313 0.000923 ***\n",
       "Age                  -0.03976    0.03548  -1.120 0.262503    \n",
       "Years_smoked          0.07287    0.02649   2.751 0.005940 ** \n",
       "Cigarettes_Per_Day    0.02602    0.02552   1.019 0.308055    \n",
       "---\n",
       "Signif. codes:  0 ‘***’ 0.001 ‘**’ 0.01 ‘*’ 0.05 ‘.’ 0.1 ‘ ’ 1\n",
       "\n",
       "(Dispersion parameter for binomial family taken to be 1)\n",
       "\n",
       "    Null deviance: 187.14  on 146  degrees of freedom\n",
       "Residual deviance: 154.20  on 140  degrees of freedom\n",
       "AIC: 168.2\n",
       "\n",
       "Number of Fisher Scoring iterations: 5\n"
      ]
     },
     "metadata": {},
     "output_type": "display_data"
    }
   ],
   "source": [
    "log_fullmod = glm(Lung_Cancer ~ Gender + Socioeconomic_Status + Birdkeeping + Age + Years_smoked + Cigarettes_Per_Day, family = binomial)\n",
    "summary(log_fullmod)"
   ]
  },
  {
   "cell_type": "code",
   "execution_count": null,
   "metadata": {
    "collapsed": true
   },
   "outputs": [],
   "source": []
  },
  {
   "cell_type": "code",
   "execution_count": 4,
   "metadata": {},
   "outputs": [
    {
     "data": {
      "text/plain": [
       "\n",
       "Call:\n",
       "glm(formula = Lung_Cancer ~ Gender + Socioeconomic_Status + Age + \n",
       "    Years_smoked + Cigarettes_Per_Day, family = binomial)\n",
       "\n",
       "Deviance Residuals: \n",
       "    Min       1Q   Median       3Q      Max  \n",
       "-1.3910  -0.9718  -0.5519   1.1733   2.5020  \n",
       "\n",
       "Coefficients:\n",
       "                     Estimate Std. Error z value Pr(>|z|)   \n",
       "(Intercept)          -0.29724    1.66002  -0.179  0.85789   \n",
       "Gender                0.74923    0.50501   1.484  0.13792   \n",
       "Socioeconomic_Status -0.07303    0.43893  -0.166  0.86785   \n",
       "Age                  -0.05799    0.03432  -1.690  0.09112 . \n",
       "Years_smoked          0.07955    0.02636   3.018  0.00255 **\n",
       "Cigarettes_Per_Day    0.01978    0.02422   0.817  0.41421   \n",
       "---\n",
       "Signif. codes:  0 ‘***’ 0.001 ‘**’ 0.01 ‘*’ 0.05 ‘.’ 0.1 ‘ ’ 1\n",
       "\n",
       "(Dispersion parameter for binomial family taken to be 1)\n",
       "\n",
       "    Null deviance: 187.14  on 146  degrees of freedom\n",
       "Residual deviance: 165.87  on 141  degrees of freedom\n",
       "AIC: 177.87\n",
       "\n",
       "Number of Fisher Scoring iterations: 5\n"
      ]
     },
     "metadata": {},
     "output_type": "display_data"
    }
   ],
   "source": [
    "log_nobirdmod = glm(Lung_Cancer ~ Gender + Socioeconomic_Status + Age + Years_smoked+Cigarettes_Per_Day, family = binomial)\n",
    "summary(log_nobirdmod)\n"
   ]
  },
  {
   "cell_type": "code",
   "execution_count": 18,
   "metadata": {},
   "outputs": [
    {
     "name": "stdout",
     "output_type": "stream",
     "text": [
      "[1] \"The G square is 11.6699652367033\"\n",
      "[1] \"The p-value is 0.000635171972000026\"\n"
     ]
    }
   ],
   "source": [
    "G2 = (log_nobirdmod$deviance - log_fullmod$deviance); print(paste(\"The G square is\", G2))\n",
    "pval = 1-pchisq(G2, df = 1); print(paste(\"The p-value is\", pval))"
   ]
  },
  {
   "cell_type": "markdown",
   "metadata": {},
   "source": [
    "###  B)\n",
    "## \"The G square is 11.6699652367033\"\n",
    "## \"The p-value is 0.000635171972000026\""
   ]
  },
  {
   "cell_type": "code",
   "execution_count": null,
   "metadata": {
    "collapsed": true
   },
   "outputs": [],
   "source": []
  },
  {
   "cell_type": "code",
   "execution_count": null,
   "metadata": {
    "collapsed": true
   },
   "outputs": [],
   "source": []
  },
  {
   "cell_type": "code",
   "execution_count": 21,
   "metadata": {},
   "outputs": [
    {
     "name": "stdout",
     "output_type": "stream",
     "text": [
      "[1] \"The the probability is 0.092944745076503\"\n"
     ]
    }
   ],
   "source": [
    "age_bar = mean(Age);\n",
    "x = data.frame(Gender = 1, Socioeconomic_Status = 0, Birdkeeping = 1, Age = age_bar,Years_smoked = 0, Cigarettes_Per_Day = 0)\n",
    "pro = predict(log_fullmod, x, type = \"response\"); print(paste(\"The the probability is\", pro))"
   ]
  },
  {
   "cell_type": "markdown",
   "metadata": {},
   "source": [
    "## F)The the probability is 0.092944745076503"
   ]
  },
  {
   "cell_type": "code",
   "execution_count": null,
   "metadata": {
    "collapsed": true
   },
   "outputs": [],
   "source": []
  },
  {
   "cell_type": "code",
   "execution_count": null,
   "metadata": {
    "collapsed": true
   },
   "outputs": [],
   "source": []
  },
  {
   "cell_type": "code",
   "execution_count": 22,
   "metadata": {},
   "outputs": [
    {
     "data": {
      "text/html": [
       "<strong>1:</strong> 0.0696787554683215"
      ],
      "text/latex": [
       "\\textbf{1:} 0.0696787554683215"
      ],
      "text/markdown": [
       "**1:** 0.0696787554683215"
      ],
      "text/plain": [
       "         1 \n",
       "0.06967876 "
      ]
     },
     "metadata": {},
     "output_type": "display_data"
    },
    {
     "data": {
      "text/html": [
       "<strong>1:</strong> 0.229515105794413"
      ],
      "text/latex": [
       "\\textbf{1:} 0.229515105794413"
      ],
      "text/markdown": [
       "**1:** 0.229515105794413"
      ],
      "text/plain": [
       "        1 \n",
       "0.2295151 "
      ]
     },
     "metadata": {},
     "output_type": "display_data"
    },
    {
     "data": {
      "text/html": [
       "<strong>1:</strong> -0.0436256156414072"
      ],
      "text/latex": [
       "\\textbf{1:} -0.0436256156414072"
      ],
      "text/markdown": [
       "**1:** -0.0436256156414072"
      ],
      "text/plain": [
       "          1 \n",
       "-0.04362562 "
      ]
     },
     "metadata": {},
     "output_type": "display_data"
    },
    {
     "data": {
      "text/html": [
       "<strong>1:</strong> -2.2781981911722"
      ],
      "text/latex": [
       "\\textbf{1:} -2.2781981911722"
      ],
      "text/markdown": [
       "**1:** -2.2781981911722"
      ],
      "text/plain": [
       "        1 \n",
       "-2.278198 "
      ]
     },
     "metadata": {},
     "output_type": "display_data"
    },
    {
     "data": {
      "text/html": [
       "<strong>1:</strong> -0.658262134097938"
      ],
      "text/latex": [
       "\\textbf{1:} -0.658262134097938"
      ],
      "text/markdown": [
       "**1:** -0.658262134097938"
      ],
      "text/plain": [
       "         1 \n",
       "-0.6582621 "
      ]
     },
     "metadata": {},
     "output_type": "display_data"
    },
    {
     "data": {
      "text/html": [
       "<strong>1:</strong> -3.89813424824646"
      ],
      "text/latex": [
       "\\textbf{1:} -3.89813424824646"
      ],
      "text/markdown": [
       "**1:** -3.89813424824646"
      ],
      "text/plain": [
       "        1 \n",
       "-3.898134 "
      ]
     },
     "metadata": {},
     "output_type": "display_data"
    },
    {
     "data": {
      "text/html": [
       "<strong>1:</strong> 0.341130106997396"
      ],
      "text/latex": [
       "\\textbf{1:} 0.341130106997396"
      ],
      "text/markdown": [
       "**1:** 0.341130106997396"
      ],
      "text/plain": [
       "        1 \n",
       "0.3411301 "
      ]
     },
     "metadata": {},
     "output_type": "display_data"
    },
    {
     "data": {
      "text/html": [
       "<strong>1:</strong> 0.0198766209117402"
      ],
      "text/latex": [
       "\\textbf{1:} 0.0198766209117402"
      ],
      "text/markdown": [
       "**1:** 0.0198766209117402"
      ],
      "text/plain": [
       "         1 \n",
       "0.01987662 "
      ]
     },
     "metadata": {},
     "output_type": "display_data"
    }
   ],
   "source": [
    "log_pro = function(variables) {\n",
    "  result = exp(variables)/(1+exp(variables))\n",
    "  result\n",
    "}\n",
    "pro_se = predict(log_fullmod, x, type = \"response\", se.fit = TRUE)$se.fit; pro_se\n",
    "upper_se = pro + 1.96*pro_se;\n",
    "lower_se = pro - 1.96*pro_se;\n",
    "upper_se; lower_se\n",
    "\n",
    "log_odds = predict(log_fullmod, x);log_odds\n",
    "log_odds_se  = predict(log_fullmod, x, se.fit = TRUE)$se.fit\n",
    "upp_log_se = log_odds + 1.96*log_odds_se;\n",
    "low_log_se = log_odds - 1.96*log_odds_se;\n",
    "\n",
    "upp_log_se; low_log_se\n",
    "log_pro(upp_log_se); log_pro(low_log_se)"
   ]
  },
  {
   "cell_type": "markdown",
   "metadata": {},
   "source": [
    "## G)Two confident interval is \n",
    "## 1: 0.0696787554683215\n",
    "## 1: 0.229515105794413"
   ]
  },
  {
   "cell_type": "code",
   "execution_count": null,
   "metadata": {
    "collapsed": true
   },
   "outputs": [],
   "source": []
  },
  {
   "cell_type": "markdown",
   "metadata": {},
   "source": [
    "# H\n",
    "##  0.341130106997396\n",
    "## 0.0198766209117402"
   ]
  },
  {
   "cell_type": "code",
   "execution_count": null,
   "metadata": {
    "collapsed": true
   },
   "outputs": [],
   "source": []
  },
  {
   "cell_type": "code",
   "execution_count": 23,
   "metadata": {},
   "outputs": [
    {
     "data": {
      "text/plain": [
       "\n",
       "Call:\n",
       "glm(formula = Lung_Cancer ~ Socioeconomic_Status + Birdkeeping + \n",
       "    Age + Years_smoked + Cigarettes_Per_Day, family = binomial)\n",
       "\n",
       "Deviance Residuals: \n",
       "    Min       1Q   Median       3Q      Max  \n",
       "-1.5364  -0.8286  -0.4876   0.9835   2.2947  \n",
       "\n",
       "Coefficients:\n",
       "                      Estimate Std. Error z value Pr(>|z|)    \n",
       "(Intercept)          -1.481479   1.729500  -0.857 0.391669    \n",
       "Socioeconomic_Status  0.002857   0.456991   0.006 0.995013    \n",
       "Birdkeeping           1.407895   0.407742   3.453 0.000555 ***\n",
       "Age                  -0.040733   0.034949  -1.166 0.243809    \n",
       "Years_smoked          0.065629   0.025031   2.622 0.008744 ** \n",
       "Cigarettes_Per_Day    0.023740   0.025121   0.945 0.344638    \n",
       "---\n",
       "Signif. codes:  0 ‘***’ 0.001 ‘**’ 0.01 ‘*’ 0.05 ‘.’ 0.1 ‘ ’ 1\n",
       "\n",
       "(Dispersion parameter for binomial family taken to be 1)\n",
       "\n",
       "    Null deviance: 187.14  on 146  degrees of freedom\n",
       "Residual deviance: 155.32  on 141  degrees of freedom\n",
       "AIC: 167.32\n",
       "\n",
       "Number of Fisher Scoring iterations: 5\n"
      ]
     },
     "metadata": {},
     "output_type": "display_data"
    },
    {
     "data": {
      "text/html": [
       "1.11835870803756"
      ],
      "text/latex": [
       "1.11835870803756"
      ],
      "text/markdown": [
       "1.11835870803756"
      ],
      "text/plain": [
       "[1] 1.118359"
      ]
     },
     "metadata": {},
     "output_type": "display_data"
    },
    {
     "data": {
      "text/html": [
       "0.290272141203618"
      ],
      "text/latex": [
       "0.290272141203618"
      ],
      "text/markdown": [
       "0.290272141203618"
      ],
      "text/plain": [
       "[1] 0.2902721"
      ]
     },
     "metadata": {},
     "output_type": "display_data"
    }
   ],
   "source": [
    "log_manmod = glm(Lung_Cancer ~ Socioeconomic_Status + Birdkeeping + Age + Years_smoked + Cigarettes_Per_Day, family = binomial)\n",
    "summary(log_manmod)\n",
    "G2_gender = log_manmod$deviance - log_fullmod$deviance; G2_gender\n",
    "pval = 1-pchisq(G2_gender, df = 1); pval"
   ]
  },
  {
   "cell_type": "markdown",
   "metadata": {},
   "source": [
    "# J)\n",
    "## G^2 is 1.11835870803756\n",
    "## p value is 0.290272141203618"
   ]
  },
  {
   "cell_type": "code",
   "execution_count": null,
   "metadata": {
    "collapsed": true
   },
   "outputs": [],
   "source": []
  },
  {
   "cell_type": "code",
   "execution_count": null,
   "metadata": {
    "collapsed": true
   },
   "outputs": [],
   "source": []
  },
  {
   "cell_type": "code",
   "execution_count": 24,
   "metadata": {},
   "outputs": [
    {
     "data": {
      "text/html": [
       "32.9367496372973"
      ],
      "text/latex": [
       "32.9367496372973"
      ],
      "text/markdown": [
       "32.9367496372973"
      ],
      "text/plain": [
       "[1] 32.93675"
      ]
     },
     "metadata": {},
     "output_type": "display_data"
    },
    {
     "data": {
      "text/html": [
       "1.07837948055689e-05"
      ],
      "text/latex": [
       "1.07837948055689e-05"
      ],
      "text/markdown": [
       "1.07837948055689e-05"
      ],
      "text/plain": [
       "[1] 1.078379e-05"
      ]
     },
     "metadata": {},
     "output_type": "display_data"
    }
   ],
   "source": [
    "G2_11 = log_fullmod$null.deviance - log_fullmod$deviance; G2_11\n",
    "pval = 1-pchisq(G2_11, df = 6); pval"
   ]
  },
  {
   "cell_type": "markdown",
   "metadata": {},
   "source": [
    "# K)\n",
    "## G^2 is 32.9367496372973\n",
    "## p value is 1.07837948055689e-05"
   ]
  },
  {
   "cell_type": "code",
   "execution_count": null,
   "metadata": {
    "collapsed": true
   },
   "outputs": [],
   "source": []
  },
  {
   "cell_type": "code",
   "execution_count": 25,
   "metadata": {},
   "outputs": [
    {
     "ename": "ERROR",
     "evalue": "Error in library(aod): there is no package called ‘aod’\n",
     "output_type": "error",
     "traceback": [
      "Error in library(aod): there is no package called ‘aod’\nTraceback:\n",
      "1. library(aod)",
      "2. stop(txt, domain = NA)"
     ]
    }
   ],
   "source": [
    "library(aod)\n",
    "L = diag(1, 6); L\n",
    "varcov = vcov(log_fullmod); varcov = varcov[2:7, 2:7]; varcov\n",
    "mean = cbind(colMeans(birdlung[, 2:7])); mean\n",
    "wald.test(Sigma = varcov, b = mean,L = L, df = 6)"
   ]
  },
  {
   "cell_type": "code",
   "execution_count": 26,
   "metadata": {},
   "outputs": [
    {
     "data": {
      "text/plain": [
       "\n",
       "Call:\n",
       "glm(formula = Lung_Cancer ~ Cigarettes_Per_Day, family = binomial())\n",
       "\n",
       "Deviance Residuals: \n",
       "    Min       1Q   Median       3Q      Max  \n",
       "-1.5148  -0.9688  -0.7166   1.3449   1.8603  \n",
       "\n",
       "Coefficients:\n",
       "                   Estimate Std. Error z value Pr(>|z|)    \n",
       "(Intercept)        -1.53541    0.37707  -4.072 4.66e-05 ***\n",
       "Cigarettes_Per_Day  0.05113    0.01939   2.637  0.00836 ** \n",
       "---\n",
       "Signif. codes:  0 ‘***’ 0.001 ‘**’ 0.01 ‘*’ 0.05 ‘.’ 0.1 ‘ ’ 1\n",
       "\n",
       "(Dispersion parameter for binomial family taken to be 1)\n",
       "\n",
       "    Null deviance: 187.14  on 146  degrees of freedom\n",
       "Residual deviance: 179.62  on 145  degrees of freedom\n",
       "AIC: 183.62\n",
       "\n",
       "Number of Fisher Scoring iterations: 4\n"
      ]
     },
     "metadata": {},
     "output_type": "display_data"
    },
    {
     "data": {
      "text/html": [
       "<strong>Cigarettes_Per_Day:</strong> 1.66744806308927"
      ],
      "text/latex": [
       "\\textbf{Cigarettes\\textbackslash{}\\_Per\\textbackslash{}\\_Day:} 1.66744806308927"
      ],
      "text/markdown": [
       "**Cigarettes_Per_Day:** 1.66744806308927"
      ],
      "text/plain": [
       "Cigarettes_Per_Day \n",
       "          1.667448 "
      ]
     },
     "metadata": {},
     "output_type": "display_data"
    },
    {
     "data": {
      "text/html": [
       "<strong>Cigarettes_Per_Day:</strong> 0.104518831709835"
      ],
      "text/latex": [
       "\\textbf{Cigarettes\\textbackslash{}\\_Per\\textbackslash{}\\_Day:} 0.104518831709835"
      ],
      "text/markdown": [
       "**Cigarettes_Per_Day:** 0.104518831709835"
      ],
      "text/plain": [
       "Cigarettes_Per_Day \n",
       "         0.1045188 "
      ]
     },
     "metadata": {},
     "output_type": "display_data"
    }
   ],
   "source": [
    "log_cig = glm(Lung_Cancer~Cigarettes_Per_Day, family = binomial()); summary(log_cig)\n",
    "exp(10*log_cig$coefficients[2])\n",
    "var_cig = vcov(log_cig)[2,2]; \n",
    "var_r = (10*exp(10*log_cig$coefficients[2]))^2*var_cig; var_r"
   ]
  },
  {
   "cell_type": "markdown",
   "metadata": {},
   "source": [
    "# M)\n",
    "## point esti of r 1.66744806308927\n",
    "## variance of r 0.104518831709835"
   ]
  },
  {
   "cell_type": "code",
   "execution_count": 30,
   "metadata": {},
   "outputs": [
    {
     "ename": "ERROR",
     "evalue": "Error in parse(text = x, srcfile = src): <text>:1:8: unexpected symbol\n1: import warnings\n           ^\n",
     "output_type": "error",
     "traceback": [
      "Error in parse(text = x, srcfile = src): <text>:1:8: unexpected symbol\n1: import warnings\n           ^\nTraceback:\n"
     ]
    }
   ],
   "source": [
    "legal = scan(\"/Users/yichen/Desktop/poisson.data.txt\"); legal\n",
    "\n",
    "sample_mean = mean(legal); sample_var = var(legal)\n",
    "posimll = function(theta, datta) {\n",
    "  lambda1 = theta[1]; lambda2 = theta[2]\n",
    "  n = length(datta)\n",
    "  posimll = n*(lambda1 + lambda2) - (sum(datta))*log(lambda1+lambda2)\n",
    "  posimll\n",
    "}\n",
    "\n",
    "posimax = nlm(posimll, p = c(sample_mean,sample_var), hessian = TRUE, datta = legal); posimax\n",
    "solve(posimax$hessian)\n",
    "posimax = nlm(posimll, p = c(1, 19), hessian = TRUE, datta = legal); posimax\n",
    "solve(posimax$hessian)"
   ]
  },
  {
   "cell_type": "code",
   "execution_count": null,
   "metadata": {
    "collapsed": true
   },
   "outputs": [],
   "source": []
  },
  {
   "cell_type": "code",
   "execution_count": null,
   "metadata": {
    "collapsed": true
   },
   "outputs": [],
   "source": []
  },
  {
   "cell_type": "code",
   "execution_count": null,
   "metadata": {
    "collapsed": true
   },
   "outputs": [],
   "source": []
  },
  {
   "cell_type": "code",
   "execution_count": null,
   "metadata": {
    "collapsed": true
   },
   "outputs": [],
   "source": []
  },
  {
   "cell_type": "code",
   "execution_count": null,
   "metadata": {
    "collapsed": true
   },
   "outputs": [],
   "source": []
  }
 ],
 "metadata": {
  "kernelspec": {
   "display_name": "R",
   "language": "R",
   "name": "ir"
  },
  "language_info": {
   "codemirror_mode": "r",
   "file_extension": ".r",
   "mimetype": "text/x-r-source",
   "name": "R",
   "pygments_lexer": "r",
   "version": "3.4.1"
  }
 },
 "nbformat": 4,
 "nbformat_minor": 2
}
